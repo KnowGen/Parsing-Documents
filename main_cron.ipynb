{
 "cells": [
  {
   "cell_type": "code",
   "execution_count": 1,
   "metadata": {},
   "outputs": [],
   "source": [
    "import pandas as pd\n",
    "import argparse\n",
    "import json\n",
    "\n",
    "from PIL import Image\n",
    "from bs4 import BeautifulSoup\n",
    "from collections import Counter\n",
    "from textractor import Textractor\n",
    "from pdf2image import convert_from_path\n",
    "from IPython.display import Image, display\n",
    "from unstructured.partition.pdf import partition_pdf\n",
    "from textractor.data.constants import TextractFeatures"
   ]
  },
  {
   "cell_type": "code",
   "execution_count": 2,
   "metadata": {},
   "outputs": [],
   "source": [
    "def extract_page_as_image(pdf_path, page_number, output_image_path, crop_coords=None):\n",
    "    images = convert_from_path(pdf_path, first_page=page_number, last_page=page_number)\n",
    "    \n",
    "    if crop_coords:\n",
    "        left = min(point[0] for point in crop_coords)\n",
    "        top = min(point[1] for point in crop_coords)\n",
    "        right = max(point[0] for point in crop_coords)\n",
    "        bottom = max(point[1] for point in crop_coords)\n",
    "        images[0] = images[0].crop((left, top, right, bottom))\n",
    "    \n",
    "    images[0].save(output_image_path, 'PNG')"
   ]
  },
  {
   "cell_type": "code",
   "execution_count": 3,
   "metadata": {},
   "outputs": [],
   "source": [
    "extractor = Textractor(profile_name=\"default\")"
   ]
  },
  {
   "cell_type": "code",
   "execution_count": 4,
   "metadata": {},
   "outputs": [],
   "source": [
    "def parse_command_line_arguments():\n",
    "    parser = argparse.ArgumentParser()\n",
    "\n",
    "    parser.add_argument('--document_path', type=str, help='The path to the input PDF document.')\n",
    "    parser.add_argument('--save_path', type=str, help='The path where to print the parsed json document.')\n",
    "\n",
    "    return parser.parse_args()\n",
    "\n",
    "def prepare_counter(elements):\n",
    "    titles_text = [el.text for el in elements if el.category == \"Title\"]\n",
    "    text_text = [el.text for el in elements if el.category == \"Text\"]\n",
    "    narrtext_text = [el.text for el in elements if el.category == \"NarrativeText\"]\n",
    "\n",
    "    all_text = titles_text + narrtext_text + text_text\n",
    "    all_counter = Counter(all_text)\n",
    "\n",
    "    return all_counter\n",
    "\n",
    "def create_parsed_dictionary(elements, all_counter):\n",
    "    parsed_doc = {'page_1': ''}\n",
    "    curr_page = 'page_1'\n",
    "    page_number = 1\n",
    "\n",
    "    for el in elements:\n",
    "        if el.category == 'PageBreak':\n",
    "            page_number += 1\n",
    "            curr_page = f\"page_{page_number}\"\n",
    "            parsed_doc[curr_page] = ''\n",
    "\n",
    "        elif el.category == 'ListItem':\n",
    "            if all_counter[el.text] < 10 and all_counter[el.text] != 0:\n",
    "                parsed_doc[curr_page] += el.text\n",
    "                parsed_doc[curr_page] += '\\n'\n",
    "        \n",
    "        elif el.category == 'NarrativeText':\n",
    "            if all_counter[el.text] < 10 and all_counter[el.text] != 0:\n",
    "                parsed_doc[curr_page] += el.text\n",
    "                parsed_doc[curr_page] += ' '\n",
    "\n",
    "        elif el.category == 'Table':\n",
    "            parsed_doc[curr_page] += '\\n'\n",
    "            parsed_doc[curr_page] += el.metadata.text_as_html\n",
    "            parsed_doc[curr_page] += '\\n'\n",
    "\n",
    "        elif el.category == 'Text':\n",
    "            if all_counter[el.text] < 10 and all_counter[el.text] != 0:\n",
    "                parsed_doc[curr_page] += el.text\n",
    "                parsed_doc[curr_page] += ' '\n",
    "\n",
    "        elif el.category == 'Title':\n",
    "            if page_number == 1:\n",
    "                parsed_doc[curr_page] += el.text\n",
    "                parsed_doc[curr_page] += '\\n'\n",
    "            elif all_counter[el.text] < 10 and all_counter[el.text] != 0:\n",
    "                parsed_doc[curr_page] += el.text\n",
    "                parsed_doc[curr_page] += '\\n'\n",
    "        \n",
    "\n",
    "    parsed_doc = {k:v for k,v in parsed_doc.items() if v}   \n",
    "\n",
    "    return parsed_doc"
   ]
  },
  {
   "cell_type": "code",
   "execution_count": 5,
   "metadata": {},
   "outputs": [],
   "source": [
    "def save_parsed_document(parsed_doc, save_path):\n",
    "    \"\"\"\n",
    "    Saves the parsed document to the specified path\n",
    "    \"\"\"\n",
    "    with open(save_path, 'w') as f:\n",
    "        json.dump(parsed_doc, f)"
   ]
  },
  {
   "cell_type": "code",
   "execution_count": 6,
   "metadata": {},
   "outputs": [
    {
     "name": "stderr",
     "output_type": "stream",
     "text": [
      "Some weights of the model checkpoint at microsoft/table-transformer-structure-recognition were not used when initializing TableTransformerForObjectDetection: ['model.backbone.conv_encoder.model.layer2.0.downsample.1.num_batches_tracked', 'model.backbone.conv_encoder.model.layer3.0.downsample.1.num_batches_tracked', 'model.backbone.conv_encoder.model.layer4.0.downsample.1.num_batches_tracked']\n",
      "- This IS expected if you are initializing TableTransformerForObjectDetection from the checkpoint of a model trained on another task or with another architecture (e.g. initializing a BertForSequenceClassification model from a BertForPreTraining model).\n",
      "- This IS NOT expected if you are initializing TableTransformerForObjectDetection from the checkpoint of a model that you expect to be exactly identical (initializing a BertForSequenceClassification model from a BertForSequenceClassification model).\n"
     ]
    }
   ],
   "source": [
    "elements = partition_pdf(filename='DPC0FQ-JD14-M1001-KB022-00.pdf', infer_table_structure=True, include_page_breaks=True, languages=['ita', 'eng'])\n",
    "all_counter = prepare_counter(elements=elements)"
   ]
  },
  {
   "cell_type": "code",
   "execution_count": 7,
   "metadata": {},
   "outputs": [],
   "source": [
    "filename='DPC0FQ-JD14-M1001-KB022-00.pdf'"
   ]
  },
  {
   "cell_type": "code",
   "execution_count": 8,
   "metadata": {},
   "outputs": [],
   "source": [
    "tablas = []"
   ]
  },
  {
   "cell_type": "code",
   "execution_count": 9,
   "metadata": {},
   "outputs": [],
   "source": [
    "parsed_doc = {'page_1': ''}\n",
    "curr_page = 'page_1'\n",
    "page_number = 1\n",
    "n=0\n",
    "\n",
    "for el in elements:\n",
    "    if el.category == 'PageBreak':\n",
    "        page_number += 1\n",
    "        curr_page = f\"page_{page_number}\"\n",
    "        parsed_doc[curr_page] = ''\n",
    "\n",
    "    elif el.category == 'ListItem':\n",
    "        if all_counter[el.text] < 10 and all_counter[el.text] != 0:\n",
    "            parsed_doc[curr_page] += el.text\n",
    "            parsed_doc[curr_page] += '\\n'\n",
    "    \n",
    "    elif el.category == 'NarrativeText':\n",
    "        if all_counter[el.text] < 10 and all_counter[el.text] != 0:\n",
    "            parsed_doc[curr_page] += el.text\n",
    "            parsed_doc[curr_page] += ' '\n",
    "\n",
    "    elif el.category == 'Table':\n",
    "        parsed_doc[curr_page] += '\\n'\n",
    "        pdf_path = filename\n",
    "        page_number = el.metadata.page_number \n",
    "        coords = el.metadata.coordinates.points \n",
    "        output_image_path = f'output_{n}.png'\n",
    "        extract_page_as_image(pdf_path, page_number, output_image_path, coords)\n",
    "        document = extractor.analyze_document(file_source=f'output_{n}.png',features=[TextractFeatures.TABLES])\n",
    "        table_html = document.tables[0].to_pandas().to_html()\n",
    "        tablas.append(table_html)\n",
    "        parsed_doc[curr_page] += table_html\n",
    "        parsed_doc[curr_page] += '\\n'\n",
    "        n+=1\n",
    "        \n",
    "\n",
    "    elif el.category == 'Text':\n",
    "        if all_counter[el.text] < 10 and all_counter[el.text] != 0:\n",
    "            parsed_doc[curr_page] += el.text\n",
    "            parsed_doc[curr_page] += ' '\n",
    "\n",
    "    elif el.category == 'Title':\n",
    "        if page_number == 1:\n",
    "            parsed_doc[curr_page] += el.text\n",
    "            parsed_doc[curr_page] += '\\n'\n",
    "        elif all_counter[el.text] < 10 and all_counter[el.text] != 0:\n",
    "            parsed_doc[curr_page] += el.text\n",
    "            parsed_doc[curr_page] += '\\n'\n",
    "    \n",
    "# Remove all empty entries.\n",
    "parsed_doc = {k:v for k,v in parsed_doc.items() if v} "
   ]
  },
  {
   "cell_type": "code",
   "execution_count": 10,
   "metadata": {},
   "outputs": [
    {
     "data": {
      "text/plain": [
       "'<table border=\"1\" class=\"dataframe\">\\n  <thead>\\n    <tr style=\"text-align: right;\">\\n      <th></th>\\n      <th>0</th>\\n      <th>1</th>\\n      <th>2</th>\\n    </tr>\\n  </thead>\\n  <tbody>\\n    <tr>\\n      <th>0</th>\\n      <td>Danieli Engineering</td>\\n      <td>Since 1964</td>\\n      <td>Turnkey Plants and Systems Engineering</td>\\n    </tr>\\n    <tr>\\n      <th>1</th>\\n      <td>Danieli Automation</td>\\n      <td>Since 1969</td>\\n      <td>Process Control Systems</td>\\n    </tr>\\n    <tr>\\n      <th>2</th>\\n      <td>Danieli Centro Metallics</td>\\n      <td>Since 1987</td>\\n      <td>Ore Processing and Direct Reduction Plants</td>\\n    </tr>\\n    <tr>\\n      <th>3</th>\\n      <td>Danieli Centro Met</td>\\n      <td>Since 1914</td>\\n      <td>Steelmaking Plants</td>\\n    </tr>\\n    <tr>\\n      <th>4</th>\\n      <td>Danieli Davy Distington</td>\\n      <td>Since 1951</td>\\n      <td>Slab Casters</td>\\n    </tr>\\n    <tr>\\n      <th>5</th>\\n      <td>Danieli Wean United</td>\\n      <td>Since 1901</td>\\n      <td>Flat Product Casting, Rolling and Processing</td>\\n    </tr>\\n    <tr>\\n      <th>6</th>\\n      <td>Danieli Kohler</td>\\n      <td>Since 1959</td>\\n      <td>Air Wiping Equipment for Metal Coating</td>\\n    </tr>\\n    <tr>\\n      <th>7</th>\\n      <td>Danieli Fröhling</td>\\n      <td>Since 1947</td>\\n      <td>Speciality Mills and Strip Finishing Lines</td>\\n    </tr>\\n    <tr>\\n      <th>8</th>\\n      <td>Danieli Morgardshammar</td>\\n      <td>Since 1856</td>\\n      <td>Long Product Rolling Mills</td>\\n    </tr>\\n    <tr>\\n      <th>9</th>\\n      <td>Danieli Centro Tube</td>\\n      <td>Since 2004</td>\\n      <td>Tube Processing Plants</td>\\n    </tr>\\n    <tr>\\n      <th>10</th>\\n      <td>Danieli W+K Industrie Technik</td>\\n      <td>Since 1968</td>\\n      <td>Longitudinal and Spiral Welded Pipe Plants</td>\\n    </tr>\\n    <tr>\\n      <th>11</th>\\n      <td>Danieli Centro Maskin</td>\\n      <td>Since 1953</td>\\n      <td>Conditioning, Drawing, Finishing Lines</td>\\n    </tr>\\n    <tr>\\n      <th>12</th>\\n      <td>Danieli Rotelec</td>\\n      <td>Since 1977</td>\\n      <td>EMS and Induction Heating Systems</td>\\n    </tr>\\n    <tr>\\n      <th>13</th>\\n      <td>Danieli Breda</td>\\n      <td>Since 1950</td>\\n      <td>Extrusion and Forging Plants</td>\\n    </tr>\\n    <tr>\\n      <th>14</th>\\n      <td>Danieli Centro Combustion</td>\\n      <td>Since 1981</td>\\n      <td>Reheating Systems</td>\\n    </tr>\\n    <tr>\\n      <th>15</th>\\n      <td>Danieli Environment</td>\\n      <td>Since 1973</td>\\n      <td>Ecological Systems</td>\\n    </tr>\\n    <tr>\\n      <th>16</th>\\n      <td>Danieli Construction</td>\\n      <td>Since 2003</td>\\n      <td>Turnkey Construction, Erection and Systems En</td>\\n    </tr>\\n    <tr>\\n      <th>17</th>\\n      <td>Danieli Service</td>\\n      <td>Since 1961</td>\\n      <td>Technical Service and Spare Parts</td>\\n    </tr>\\n  </tbody>\\n</table>'"
      ]
     },
     "execution_count": 10,
     "metadata": {},
     "output_type": "execute_result"
    }
   ],
   "source": [
    "document.tables[0].to_pandas().to_html()"
   ]
  },
  {
   "cell_type": "code",
   "execution_count": 11,
   "metadata": {},
   "outputs": [
    {
     "name": "stdout",
     "output_type": "stream",
     "text": [
      "Element at position 12 is a Table\n",
      "Element at position 404 is a Table\n",
      "Element at position 608 is a Table\n",
      "Element at position 734 is a Table\n",
      "Element at position 738 is a Table\n",
      "Element at position 764 is a Table\n"
     ]
    }
   ],
   "source": [
    "for index, el in enumerate(elements):\n",
    "    if el.category == 'Table':\n",
    "        print(f\"Element at position {index} is a Table\")"
   ]
  },
  {
   "cell_type": "code",
   "execution_count": 12,
   "metadata": {},
   "outputs": [
    {
     "data": {
      "text/plain": [
       "6"
      ]
     },
     "execution_count": 12,
     "metadata": {},
     "output_type": "execute_result"
    }
   ],
   "source": [
    "len(tablas)"
   ]
  },
  {
   "cell_type": "code",
   "execution_count": 13,
   "metadata": {},
   "outputs": [
    {
     "data": {
      "text/plain": [
       "'<table border=\"1\" class=\"dataframe\">\\n  <thead>\\n    <tr style=\"text-align: right;\">\\n      <th></th>\\n      <th>0</th>\\n      <th>1</th>\\n      <th>2</th>\\n    </tr>\\n  </thead>\\n  <tbody>\\n    <tr>\\n      <th>0</th>\\n      <td>visione</td>\\n      <td>Data</td>\\n      <td>Motivo</td>\\n    </tr>\\n    <tr>\\n      <th>1</th>\\n      <td></td>\\n      <td>23 Aprile 2020</td>\\n      <td>Primo in</td>\\n    </tr>\\n  </tbody>\\n</table>'"
      ]
     },
     "execution_count": 13,
     "metadata": {},
     "output_type": "execute_result"
    }
   ],
   "source": [
    "tablas[0]"
   ]
  },
  {
   "cell_type": "code",
   "execution_count": 15,
   "metadata": {},
   "outputs": [
    {
     "data": {
      "text/plain": [
       "'<table border=\"1\" class=\"dataframe\">\\n  <thead>\\n    <tr style=\"text-align: right;\">\\n      <th></th>\\n      <th>0</th>\\n      <th>1</th>\\n      <th>2</th>\\n    </tr>\\n  </thead>\\n  <tbody>\\n    <tr>\\n      <th>0</th>\\n      <td>Anomalia</td>\\n      <td>Causa</td>\\n      <td>Soluzione</td>\\n    </tr>\\n    <tr>\\n      <th>1</th>\\n      <td>Rumorosità</td>\\n      <td>Allentamento dei bulloni di ancoraggio del basamento alle fondazioni e di fissaggio dei diversi componenti sulla macchina.</td>\\n      <td>Serrare i bulloni e le viti che lo richiedono.</td>\\n    </tr>\\n    <tr>\\n      <th>2</th>\\n      <td></td>\\n      <td>Condizione dei cuscinetti.</td>\\n      <td>Controllare la lubrificazione.</td>\\n    </tr>\\n    <tr>\\n      <th>3</th>\\n      <td></td>\\n      <td></td>\\n      <td>Controllare il gioco dei cuscinetti.</td>\\n    </tr>\\n    <tr>\\n      <th>4</th>\\n      <td></td>\\n      <td></td>\\n      <td>Controllare l\\'allineamento delle parti.</td>\\n    </tr>\\n    <tr>\\n      <th>5</th>\\n      <td>Surriscaldamento</td>\\n      <td>Condizione dei cuscinetti.</td>\\n      <td>Controllare la lubrificazione.</td>\\n    </tr>\\n    <tr>\\n      <th>6</th>\\n      <td></td>\\n      <td></td>\\n      <td>Controllare il gioco dei cuscinetti.</td>\\n    </tr>\\n    <tr>\\n      <th>7</th>\\n      <td>Funzionamento irregolare del bancale scarico di emergenza</td>\\n      <td>Funzionamento difettoso dei dispositivi di controllo e segnalazione.</td>\\n      <td>Controllare il corretto funzionamento dei dispositivi di controllo e segnalazione.</td>\\n    </tr>\\n    <tr>\\n      <th>8</th>\\n      <td></td>\\n      <td>Presenza di corpi estranei tra le bronzine e l\\'albero di rotazione leve</td>\\n      <td>Rimuovere i corpi estranei.</td>\\n    </tr>\\n    <tr>\\n      <th>9</th>\\n      <td></td>\\n      <td>Pressione insufficiente del sistema oleodinamico.</td>\\n      <td>Controllare il sistema oleodinamico.</td>\\n    </tr>\\n    <tr>\\n      <th>10</th>\\n      <td></td>\\n      <td>Perdita di pressione nel cilindro oleodinamico.</td>\\n      <td>Sostituire le guarnizioni.</td>\\n    </tr>\\n    <tr>\\n      <th>11</th>\\n      <td></td>\\n      <td>Usura eccessiva o danno.</td>\\n      <td>Controllare l\\'usura dei componenti e l\\'integrità; sostituire o riparare.</td>\\n    </tr>\\n    <tr>\\n      <th>12</th>\\n      <td>Perdita di pressione nel circuito oleodinamico</td>\\n      <td>Perdite nelle tubature.</td>\\n      <td>Cercare il guasto controllando sezione per sezione e riparare il danno.</td>\\n    </tr>\\n    <tr>\\n      <th>13</th>\\n      <td></td>\\n      <td>Condizione delle valvole di non ritorno.</td>\\n      <td>Controllare le condizioni di efficienza e di usura; sostituire se necessario.</td>\\n    </tr>\\n    <tr>\\n      <th>14</th>\\n      <td>Mancato funzionamento dei cilindri oleodinamici</td>\\n      <td>Elettrovalvola non efficiente.</td>\\n      <td>Verificare il segnale elettrico sui solenoidi della valvola e resettare il cablaggio.</td>\\n    </tr>\\n    <tr>\\n      <th>15</th>\\n      <td></td>\\n      <td></td>\\n      <td>Pulire le elettrovalvole e sostituirle, se necessario.</td>\\n    </tr>\\n    <tr>\\n      <th>16</th>\\n      <td>Funzionamento irregolare del cilindro oleodinamico</td>\\n      <td>Pressione insufficiente nel sistema oleodinamico.</td>\\n      <td>Controllare la presenza di perdite nel circuito e il funzionamento corretto del sistema oleodinamico.</td>\\n    </tr>\\n    <tr>\\n      <th>17</th>\\n      <td></td>\\n      <td>Condizione del cilindro oleodinamico.</td>\\n      <td>Controllare l\\'eventuale presenza di perdite. Se le guarnizioni o la barra sono usurate, sostituire le parti usurate.</td>\\n    </tr>\\n    <tr>\\n      <th>18</th>\\n      <td></td>\\n      <td>Condizione del giunto sferico.</td>\\n      <td>Verificare la presenza di possibili danni anomali o di usura; se necessario, procedere alle sostituzioni.</td>\\n    </tr>\\n  </tbody>\\n</table>'"
      ]
     },
     "execution_count": 15,
     "metadata": {},
     "output_type": "execute_result"
    }
   ],
   "source": [
    "tablas[1]"
   ]
  },
  {
   "cell_type": "code",
   "execution_count": 14,
   "metadata": {},
   "outputs": [
    {
     "ename": "NameError",
     "evalue": "name 'xxxxxxxxxxxx' is not defined",
     "output_type": "error",
     "traceback": [
      "\u001b[0;31m---------------------------------------------------------------------------\u001b[0m",
      "\u001b[0;31mNameError\u001b[0m                                 Traceback (most recent call last)",
      "Cell \u001b[0;32mIn[14], line 1\u001b[0m\n\u001b[0;32m----> 1\u001b[0m \u001b[43mxxxxxxxxxxxx\u001b[49m\n",
      "\u001b[0;31mNameError\u001b[0m: name 'xxxxxxxxxxxx' is not defined"
     ]
    }
   ],
   "source": [
    "xxxxxxxxxxxx"
   ]
  },
  {
   "cell_type": "code",
   "execution_count": null,
   "metadata": {},
   "outputs": [],
   "source": [
    "image_path = 'output_0.png'\n",
    "display(Image(filename=image_path))"
   ]
  },
  {
   "cell_type": "code",
   "execution_count": null,
   "metadata": {},
   "outputs": [],
   "source": [
    "html_content = elements[12].metadata.text_as_html\n",
    "\n",
    "# Utiliza BeautifulSoup para parsear el HTML si es necesario\n",
    "soup = BeautifulSoup(html_content, 'html.parser')\n",
    "table = soup.find('table')\n",
    "\n",
    "# Convierte la tabla HTML a un DataFrame de pandas\n",
    "df = pd.read_html(str(table))[0]\n",
    "\n",
    "df"
   ]
  },
  {
   "cell_type": "code",
   "execution_count": null,
   "metadata": {},
   "outputs": [],
   "source": [
    "tablas[0]"
   ]
  },
  {
   "cell_type": "code",
   "execution_count": null,
   "metadata": {},
   "outputs": [],
   "source": [
    "image_path = 'output_1.png'\n",
    "display(Image(filename=image_path))"
   ]
  },
  {
   "cell_type": "code",
   "execution_count": null,
   "metadata": {},
   "outputs": [],
   "source": [
    "html_content = elements[404].metadata.text_as_html\n",
    "\n",
    "# Utiliza BeautifulSoup para parsear el HTML si es necesario\n",
    "soup = BeautifulSoup(html_content, 'html.parser')\n",
    "table = soup.find('table')\n",
    "\n",
    "# Convierte la tabla HTML a un DataFrame de pandas\n",
    "df = pd.read_html(str(table))[0]\n",
    "\n",
    "df"
   ]
  },
  {
   "cell_type": "code",
   "execution_count": null,
   "metadata": {},
   "outputs": [],
   "source": [
    "tablas[1]"
   ]
  },
  {
   "cell_type": "code",
   "execution_count": null,
   "metadata": {},
   "outputs": [],
   "source": [
    "image_path = 'output_2.png'\n",
    "display(Image(filename=image_path))"
   ]
  },
  {
   "cell_type": "code",
   "execution_count": null,
   "metadata": {},
   "outputs": [],
   "source": [
    "html_content = elements[608].metadata.text_as_html\n",
    "\n",
    "# Utiliza BeautifulSoup para parsear el HTML si es necesario\n",
    "soup = BeautifulSoup(html_content, 'html.parser')\n",
    "table = soup.find('table')\n",
    "\n",
    "# Convierte la tabla HTML a un DataFrame de pandas\n",
    "df = pd.read_html(str(table))[0]\n",
    "\n",
    "df"
   ]
  },
  {
   "cell_type": "code",
   "execution_count": null,
   "metadata": {},
   "outputs": [],
   "source": [
    "tablas[2]"
   ]
  },
  {
   "cell_type": "code",
   "execution_count": null,
   "metadata": {},
   "outputs": [],
   "source": [
    "image_path = 'output_3.png'\n",
    "display(Image(filename=image_path))"
   ]
  },
  {
   "cell_type": "code",
   "execution_count": null,
   "metadata": {},
   "outputs": [],
   "source": [
    "html_content = elements[734].metadata.text_as_html\n",
    "\n",
    "# Utiliza BeautifulSoup para parsear el HTML si es necesario\n",
    "soup = BeautifulSoup(html_content, 'html.parser')\n",
    "table = soup.find('table')\n",
    "\n",
    "# Convierte la tabla HTML a un DataFrame de pandas\n",
    "df = pd.read_html(str(table))[0]\n",
    "\n",
    "df"
   ]
  },
  {
   "cell_type": "code",
   "execution_count": null,
   "metadata": {},
   "outputs": [],
   "source": [
    "tablas[3]"
   ]
  },
  {
   "cell_type": "code",
   "execution_count": null,
   "metadata": {},
   "outputs": [],
   "source": [
    "image_path = 'output_4.png'\n",
    "display(Image(filename=image_path))"
   ]
  },
  {
   "cell_type": "code",
   "execution_count": null,
   "metadata": {},
   "outputs": [],
   "source": [
    "html_content = elements[738].metadata.text_as_html\n",
    "\n",
    "# Utiliza BeautifulSoup para parsear el HTML si es necesario\n",
    "soup = BeautifulSoup(html_content, 'html.parser')\n",
    "table = soup.find('table')\n",
    "\n",
    "# Convierte la tabla HTML a un DataFrame de pandas\n",
    "df = pd.read_html(str(table))[0]\n",
    "\n",
    "df"
   ]
  },
  {
   "cell_type": "code",
   "execution_count": null,
   "metadata": {},
   "outputs": [],
   "source": [
    "tablas[4]"
   ]
  },
  {
   "cell_type": "code",
   "execution_count": null,
   "metadata": {},
   "outputs": [],
   "source": [
    "image_path = 'output_5.png'\n",
    "display(Image(filename=image_path))"
   ]
  },
  {
   "cell_type": "code",
   "execution_count": null,
   "metadata": {},
   "outputs": [],
   "source": [
    "html_content = elements[764].metadata.text_as_html\n",
    "\n",
    "# Utiliza BeautifulSoup para parsear el HTML si es necesario\n",
    "soup = BeautifulSoup(html_content, 'html.parser')\n",
    "table = soup.find('table')\n",
    "\n",
    "# Convierte la tabla HTML a un DataFrame de pandas\n",
    "df = pd.read_html(str(table))[0]\n",
    "\n",
    "df"
   ]
  },
  {
   "cell_type": "code",
   "execution_count": null,
   "metadata": {},
   "outputs": [],
   "source": [
    "tablas[5]"
   ]
  },
  {
   "cell_type": "code",
   "execution_count": null,
   "metadata": {},
   "outputs": [],
   "source": [
    "xxxx"
   ]
  },
  {
   "cell_type": "code",
   "execution_count": null,
   "metadata": {},
   "outputs": [],
   "source": [
    "args = parse_command_line_arguments()\n",
    "elements = partition_pdf(filename=args.document_path, infer_table_structure=True, include_page_breaks=True, languages=['ita', 'eng'])\n",
    "all_counter = prepare_counter(elements=elements)\n",
    "\n",
    "parsed_doc = create_parsed_dictionary(elements, all_counter)\n",
    "\n",
    "save_path = args.document_path.replace('.pdf', '.json')\n",
    "save_parsed_document(parsed_doc, save_path)"
   ]
  }
 ],
 "metadata": {
  "kernelspec": {
   "display_name": "qa",
   "language": "python",
   "name": "python3"
  },
  "language_info": {
   "codemirror_mode": {
    "name": "ipython",
    "version": 3
   },
   "file_extension": ".py",
   "mimetype": "text/x-python",
   "name": "python",
   "nbconvert_exporter": "python",
   "pygments_lexer": "ipython3",
   "version": "3.9.1"
  }
 },
 "nbformat": 4,
 "nbformat_minor": 2
}
